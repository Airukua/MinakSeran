{
 "cells": [
  {
   "cell_type": "code",
   "execution_count": 7,
   "id": "d7a10621",
   "metadata": {},
   "outputs": [],
   "source": [
    "import re\n",
    "\n",
    "pattern = r'(\\w+)\\s+(a|ra)(?=\\s|$)'\n",
    "text = ['aku fas motora tura maniwa ra']"
   ]
  },
  {
   "cell_type": "code",
   "execution_count": 8,
   "id": "427e9dec",
   "metadata": {},
   "outputs": [
    {
     "name": "stdout",
     "output_type": "stream",
     "text": [
      "['aku fas motora tura maniwara']\n"
     ]
    }
   ],
   "source": [
    "from seram_tokenizer.paragog_normaliser import GeserParagogNormalizer\n",
    "normalizer = GeserParagogNormalizer(text)\n",
    "normalized_text = normalizer.normalize()\n",
    "print(normalized_text)"
   ]
  },
  {
   "cell_type": "code",
   "execution_count": null,
   "id": "eff10e5c",
   "metadata": {},
   "outputs": [],
   "source": []
  }
 ],
 "metadata": {
  "kernelspec": {
   "display_name": "agent",
   "language": "python",
   "name": "python3"
  },
  "language_info": {
   "codemirror_mode": {
    "name": "ipython",
    "version": 3
   },
   "file_extension": ".py",
   "mimetype": "text/x-python",
   "name": "python",
   "nbconvert_exporter": "python",
   "pygments_lexer": "ipython3",
   "version": "3.11.11"
  }
 },
 "nbformat": 4,
 "nbformat_minor": 5
}

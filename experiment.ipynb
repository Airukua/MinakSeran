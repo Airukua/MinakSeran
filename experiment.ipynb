{
 "cells": [
  {
   "cell_type": "code",
   "execution_count": 2,
   "id": "450cc88c",
   "metadata": {},
   "outputs": [],
   "source": [
    "import re\n",
    "x = re.compile(\n",
    "            r\"([.,!?;:\\'\\\"(){}\\[\\]<>~`@#$%^&*/+=|\\\\])|(\\.{3})|(\\s-\\s)\"\n",
    "        )"
   ]
  },
  {
   "cell_type": "code",
   "execution_count": 1,
   "id": "65b5c5e2",
   "metadata": {},
   "outputs": [
    {
     "data": {
      "text/plain": [
       "['ini', 'contoh', 'kalimat']"
      ]
     },
     "execution_count": 1,
     "metadata": {},
     "output_type": "execute_result"
    }
   ],
   "source": [
    "import re\n",
    "splitter = re.compile(r'\\s+')\n",
    "splitter.split(\"ini contoh kalimat\")"
   ]
  },
  {
   "cell_type": "code",
   "execution_count": 6,
   "id": "7872280a",
   "metadata": {},
   "outputs": [
    {
     "data": {
      "text/plain": [
       "'ini  contoh kalimat'"
      ]
     },
     "execution_count": 6,
     "metadata": {},
     "output_type": "execute_result"
    }
   ],
   "source": [
    "x.sub(r' ', 'ini ?contoh kalimat')"
   ]
  },
  {
   "cell_type": "code",
   "execution_count": null,
   "id": "9c249aa8",
   "metadata": {},
   "outputs": [],
   "source": []
  }
 ],
 "metadata": {
  "kernelspec": {
   "display_name": "agent",
   "language": "python",
   "name": "python3"
  },
  "language_info": {
   "codemirror_mode": {
    "name": "ipython",
    "version": 3
   },
   "file_extension": ".py",
   "mimetype": "text/x-python",
   "name": "python",
   "nbconvert_exporter": "python",
   "pygments_lexer": "ipython3",
   "version": "3.11.11"
  }
 },
 "nbformat": 4,
 "nbformat_minor": 5
}

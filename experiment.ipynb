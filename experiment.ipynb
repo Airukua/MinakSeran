{
 "cells": [
  {
   "cell_type": "code",
   "execution_count": 12,
   "id": "427e9dec",
   "metadata": {},
   "outputs": [
    {
     "name": "stdout",
     "output_type": "stream",
     "text": [
      "Original text: ['aku fas motor a tura maniwa ra']\n",
      "Tokens: ['aku fas motora tura maniwara']\n"
     ]
    }
   ],
   "source": [
    "# Import the library\n",
    "from seram_tokenizer.paragog_normaliser import GeserParagogNormalizer\n",
    "\n",
    "# Example usage of the GeserParagogNormalizer\n",
    "text = ['aku fas motor a tura maniwa ra']\n",
    "\n",
    "# Initialize the normalizer with the text\n",
    "normalizer = GeserParagogNormalizer(text)\n",
    "\n",
    "# Normalize the text\n",
    "normalized_text = normalizer.normalize()\n",
    "\n",
    "# Print the results\n",
    "print(f\"Original text: {text}\")\n",
    "print(f\"Tokens: {normalized_text}\")"
   ]
  },
  {
   "cell_type": "code",
   "execution_count": 7,
   "id": "a78d3d18",
   "metadata": {},
   "outputs": [
    {
     "name": "stdout",
     "output_type": "stream",
     "text": [
      "Original text: aku nugu ngasana habiba, aku atamari wanu karay.\n",
      "Tokens: ['aku', 'nugu', 'ngasana', 'habiba', ',', 'aku', 'atamari', 'wanu', 'karay', '.']\n"
     ]
    }
   ],
   "source": [
    "# Import the library\n",
    "from seram_tokenizer import SeramTokenizer\n",
    "\n",
    "# Text in Seram language\n",
    "text = \"aku nugu ngasana habiba, aku atamari wanu karay.\"\n",
    "\n",
    "# Initialize the tokenizer\n",
    "tokenizer = SeramTokenizer(text)\n",
    "\n",
    "# Perform tokenization\n",
    "tokens = tokenizer.tokenize()\n",
    "\n",
    "# Print the results\n",
    "print(f\"Original text: {text}\")\n",
    "print(f\"Tokens: {tokens}\")"
   ]
  },
  {
   "cell_type": "code",
   "execution_count": 3,
   "id": "f7fcc2d1",
   "metadata": {},
   "outputs": [
    {
     "data": {
      "text/plain": [
       "['pertamara']"
      ]
     },
     "execution_count": 3,
     "metadata": {},
     "output_type": "execute_result"
    }
   ],
   "source": [
    "text = 'minak iwa tei? Mm ina. Ni minak iwa Leman I mancia yang mana loka liwa, yang baru pertamara dawei maniwa.'\n",
    "from seram_tokenizer.suffix_analayser import SuffixAnalyser\n",
    "analyser = SuffixAnalyser(text)\n",
    "ra_words = analyser.find_ra_suffix_words()\n",
    "ra_words"
   ]
  }
 ],
 "metadata": {
  "kernelspec": {
   "display_name": "research",
   "language": "python",
   "name": "python3"
  },
  "language_info": {
   "codemirror_mode": {
    "name": "ipython",
    "version": 3
   },
   "file_extension": ".py",
   "mimetype": "text/x-python",
   "name": "python",
   "nbconvert_exporter": "python",
   "pygments_lexer": "ipython3",
   "version": "3.11.11"
  }
 },
 "nbformat": 4,
 "nbformat_minor": 5
}

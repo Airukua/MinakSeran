{
 "cells": [
  {
   "cell_type": "code",
   "execution_count": 18,
   "id": "d7a10621",
   "metadata": {},
   "outputs": [],
   "source": [
    "import re\n",
    "\n",
    "pattern = r'(\\w+)\\s+(a|ra)(?=\\s|$)'\n",
    "text = ['aku fas motor a tura maniwa ra']"
   ]
  },
  {
   "cell_type": "code",
   "execution_count": 21,
   "id": "427e9dec",
   "metadata": {},
   "outputs": [
    {
     "name": "stdout",
     "output_type": "stream",
     "text": [
      "[('motor', 'a'), ('maniwa', 'ra')]\n"
     ]
    }
   ],
   "source": [
    "from geser_tokenizer.paragog_normaliser import ParagogNormalizer\n",
    "normalizer = ParagogNormalizer(text)\n",
    "normalized_text = normalizer.normalize_paragogs()\n",
    "print(normalized_text)"
   ]
  },
  {
   "cell_type": "code",
   "execution_count": null,
   "id": "eff10e5c",
   "metadata": {},
   "outputs": [],
   "source": []
  }
 ],
 "metadata": {
  "kernelspec": {
   "display_name": "agent",
   "language": "python",
   "name": "python3"
  },
  "language_info": {
   "codemirror_mode": {
    "name": "ipython",
    "version": 3
   },
   "file_extension": ".py",
   "mimetype": "text/x-python",
   "name": "python",
   "nbconvert_exporter": "python",
   "pygments_lexer": "ipython3",
   "version": "3.11.11"
  }
 },
 "nbformat": 4,
 "nbformat_minor": 5
}
